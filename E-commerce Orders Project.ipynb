{
 "cells": [
  {
   "cell_type": "markdown",
   "id": "ba3336e8",
   "metadata": {},
   "source": [
    "# E-Commerce Orders Project"
   ]
  },
  {
   "cell_type": "code",
   "execution_count": 293,
   "id": "73bc2e81",
   "metadata": {},
   "outputs": [],
   "source": [
    "import pandas as pd\n",
    "import numpy as np\n",
    "import matplotlib.pyplot as plt\n",
    "import seaborn as sns"
   ]
  },
  {
   "cell_type": "markdown",
   "id": "ddd93e1c",
   "metadata": {},
   "source": [
    "## Loading Files"
   ]
  },
  {
   "cell_type": "markdown",
   "id": "81c50b46",
   "metadata": {},
   "source": [
    "### 1.Loading Orders data"
   ]
  },
  {
   "cell_type": "code",
   "execution_count": 294,
   "id": "7ce2535e",
   "metadata": {},
   "outputs": [],
   "source": [
    "orders_data = pd.read_excel(\"orders.xlsx\")"
   ]
  },
  {
   "cell_type": "markdown",
   "id": "bf05f090",
   "metadata": {},
   "source": [
    "### 2.Loading Payment data"
   ]
  },
  {
   "cell_type": "code",
   "execution_count": 295,
   "id": "da9d796f",
   "metadata": {},
   "outputs": [],
   "source": [
    "payment_data = pd.read_excel(\"order_payment.xlsx\")"
   ]
  },
  {
   "cell_type": "markdown",
   "id": "e11b9ec3",
   "metadata": {},
   "source": [
    "### 3.Loading customers data"
   ]
  },
  {
   "cell_type": "code",
   "execution_count": 296,
   "id": "2f8def77",
   "metadata": {},
   "outputs": [],
   "source": [
    "customers_data = pd.read_excel(\"customers.xlsx\")"
   ]
  },
  {
   "cell_type": "markdown",
   "id": "62a76023",
   "metadata": {},
   "source": [
    "## Describing Data"
   ]
  },
  {
   "cell_type": "code",
   "execution_count": 297,
   "id": "bf72b28a",
   "metadata": {},
   "outputs": [
    {
     "name": "stdout",
     "output_type": "stream",
     "text": [
      "<class 'pandas.core.frame.DataFrame'>\n",
      "RangeIndex: 99444 entries, 0 to 99443\n",
      "Data columns (total 8 columns):\n",
      " #   Column                         Non-Null Count  Dtype         \n",
      "---  ------                         --------------  -----         \n",
      " 0   order_id                       99444 non-null  object        \n",
      " 1   customer_id                    99444 non-null  object        \n",
      " 2   order_status                   99444 non-null  object        \n",
      " 3   order_purchase_timestamp       99444 non-null  datetime64[ns]\n",
      " 4   order_approved_at              99284 non-null  datetime64[ns]\n",
      " 5   order_delivered_carrier_date   97661 non-null  datetime64[ns]\n",
      " 6   order_delivered_customer_date  96479 non-null  datetime64[ns]\n",
      " 7   order_estimated_delivery_date  99444 non-null  datetime64[ns]\n",
      "dtypes: datetime64[ns](5), object(3)\n",
      "memory usage: 6.1+ MB\n",
      "None\n"
     ]
    }
   ],
   "source": [
    "print(orders_data.info())"
   ]
  },
  {
   "cell_type": "code",
   "execution_count": 298,
   "id": "38eda1b8",
   "metadata": {},
   "outputs": [
    {
     "name": "stdout",
     "output_type": "stream",
     "text": [
      "                           order_id                       customer_id  \\\n",
      "0  e481f51cbdc54678b7cc49136f2d6af7  9ef432eb6251297304e76186b10a928d   \n",
      "1  53cdb2fc8bc7dce0b6741e2150273451  b0830fb4747a6c6d20dea0b8c802d7ef   \n",
      "2  47770eb9100c2d0c44946d9cf07ec65d  41ce2a54c0b03bf3443c3d931a367089   \n",
      "3  949d5b44dbf5de918fe9c16f97b45f8a  f88197465ea7920adcdbec7375364d82   \n",
      "4  ad21c59c0840e6cb83a9ceb5573f8159  8ab97904e6daea8866dbdbc4fb7aad2c   \n",
      "\n",
      "  order_status order_purchase_timestamp   order_approved_at  \\\n",
      "0    delivered      2017-10-02 10:56:33 2017-10-02 11:07:15   \n",
      "1    delivered      2018-07-24 20:41:37 2018-07-26 03:24:27   \n",
      "2    delivered      2018-08-08 08:38:49 2018-08-08 08:55:23   \n",
      "3    delivered      2017-11-18 19:28:06 2017-11-18 19:45:59   \n",
      "4    delivered      2018-02-13 21:18:39 2018-02-13 22:20:29   \n",
      "\n",
      "  order_delivered_carrier_date order_delivered_customer_date  \\\n",
      "0          2017-10-04 19:55:00           2017-10-10 21:25:13   \n",
      "1          2018-07-26 14:31:00           2018-08-07 15:27:45   \n",
      "2          2018-08-08 13:50:00           2018-08-17 18:06:29   \n",
      "3          2017-11-22 13:39:59           2017-12-02 00:28:42   \n",
      "4          2018-02-14 19:46:34           2018-02-16 18:17:02   \n",
      "\n",
      "  order_estimated_delivery_date  \n",
      "0                    2017-10-18  \n",
      "1                    2018-08-13  \n",
      "2                    2018-09-04  \n",
      "3                    2017-12-15  \n",
      "4                    2018-02-26  \n"
     ]
    }
   ],
   "source": [
    "print(orders_data.head())"
   ]
  },
  {
   "cell_type": "code",
   "execution_count": 299,
   "id": "da36b7b3",
   "metadata": {},
   "outputs": [
    {
     "name": "stdout",
     "output_type": "stream",
     "text": [
      "<class 'pandas.core.frame.DataFrame'>\n",
      "RangeIndex: 103887 entries, 0 to 103886\n",
      "Data columns (total 5 columns):\n",
      " #   Column                Non-Null Count   Dtype  \n",
      "---  ------                --------------   -----  \n",
      " 0   order_id              103887 non-null  object \n",
      " 1   payment_sequential    103887 non-null  int64  \n",
      " 2   payment_type          103887 non-null  object \n",
      " 3   payment_installments  103887 non-null  int64  \n",
      " 4   payment_value         103885 non-null  float64\n",
      "dtypes: float64(1), int64(2), object(2)\n",
      "memory usage: 4.0+ MB\n",
      "None\n"
     ]
    }
   ],
   "source": [
    "print(payment_data.info())"
   ]
  },
  {
   "cell_type": "code",
   "execution_count": 300,
   "id": "a6339153",
   "metadata": {},
   "outputs": [
    {
     "name": "stdout",
     "output_type": "stream",
     "text": [
      "                           order_id  payment_sequential payment_type  \\\n",
      "0  b81ef226f3fe1789b1e8b2acac839d17                   1  credit_card   \n",
      "1  a9810da82917af2d9aefd1278f1dcfa0                   1  credit_card   \n",
      "2  25e8ea4e93396b6fa0d3dd708e76c1bd                   1  credit_card   \n",
      "3  ba78997921bbcdc1373bb41e913ab953                   1  credit_card   \n",
      "4  42fdf880ba16b47b59251dd489d4441a                   1  credit_card   \n",
      "\n",
      "   payment_installments  payment_value  \n",
      "0                     8          99.33  \n",
      "1                     1          24.39  \n",
      "2                     1          65.71  \n",
      "3                     8         107.78  \n",
      "4                     2            NaN  \n"
     ]
    }
   ],
   "source": [
    "print(payment_data.head())"
   ]
  },
  {
   "cell_type": "code",
   "execution_count": 301,
   "id": "b450a513",
   "metadata": {},
   "outputs": [
    {
     "name": "stdout",
     "output_type": "stream",
     "text": [
      "<class 'pandas.core.frame.DataFrame'>\n",
      "RangeIndex: 99441 entries, 0 to 99440\n",
      "Data columns (total 5 columns):\n",
      " #   Column                    Non-Null Count  Dtype \n",
      "---  ------                    --------------  ----- \n",
      " 0   customer_id               99441 non-null  object\n",
      " 1   customer_unique_id        99441 non-null  object\n",
      " 2   customer_zip_code_prefix  99441 non-null  int64 \n",
      " 3   customer_city             99441 non-null  object\n",
      " 4   customer_state            99441 non-null  object\n",
      "dtypes: int64(1), object(4)\n",
      "memory usage: 3.8+ MB\n",
      "None\n"
     ]
    }
   ],
   "source": [
    "print(customers_data.info())"
   ]
  },
  {
   "cell_type": "code",
   "execution_count": 302,
   "id": "c0985b9f",
   "metadata": {},
   "outputs": [
    {
     "name": "stdout",
     "output_type": "stream",
     "text": [
      "                        customer_id                customer_unique_id  \\\n",
      "0  06b8999e2fba1a1fbc88172c00ba8bc7  861eff4711a542e4b93843c6dd7febb0   \n",
      "1  18955e83d337fd6b2def6b18a428ac77  290c77bc529b7ac935b93aa66c333dc3   \n",
      "2  4e7b3e00288586ebd08712fdd0374a03  060e732b5b29e8181a18229c7b0b2b5e   \n",
      "3  b2b6027bc5c5109e529d4dc6358b12c3  259dac757896d24d7702b9acbbff3f3c   \n",
      "4  4f2d8ab171c80ec8364f7c12e35b23ad  345ecd01c38d18a9036ed96c73b8d066   \n",
      "\n",
      "   customer_zip_code_prefix          customer_city customer_state  \n",
      "0                     14409                 franca             SP  \n",
      "1                      9790  sao bernardo do campo             SP  \n",
      "2                      1151              sao paulo             SP  \n",
      "3                      8775        mogi das cruzes             SP  \n",
      "4                     13056               campinas             SP  \n"
     ]
    }
   ],
   "source": [
    "print(customers_data.head())"
   ]
  },
  {
   "cell_type": "code",
   "execution_count": 303,
   "id": "47fdc912",
   "metadata": {},
   "outputs": [
    {
     "name": "stdout",
     "output_type": "stream",
     "text": [
      "Index(['order_id', 'customer_id', 'order_status', 'order_purchase_timestamp',\n",
      "       'order_approved_at', 'order_delivered_carrier_date',\n",
      "       'order_delivered_customer_date', 'order_estimated_delivery_date'],\n",
      "      dtype='object')\n"
     ]
    }
   ],
   "source": [
    "print(orders_data.columns)"
   ]
  },
  {
   "cell_type": "code",
   "execution_count": 304,
   "id": "d125ab44",
   "metadata": {},
   "outputs": [
    {
     "name": "stdout",
     "output_type": "stream",
     "text": [
      "Index(['order_id', 'payment_sequential', 'payment_type',\n",
      "       'payment_installments', 'payment_value'],\n",
      "      dtype='object')\n"
     ]
    }
   ],
   "source": [
    "print(payment_data.columns)"
   ]
  },
  {
   "cell_type": "code",
   "execution_count": 305,
   "id": "0a72e44d",
   "metadata": {},
   "outputs": [
    {
     "name": "stdout",
     "output_type": "stream",
     "text": [
      "Index(['customer_id', 'customer_unique_id', 'customer_zip_code_prefix',\n",
      "       'customer_city', 'customer_state'],\n",
      "      dtype='object')\n"
     ]
    }
   ],
   "source": [
    "print(customers_data.columns)"
   ]
  },
  {
   "cell_type": "markdown",
   "id": "f8f9d965",
   "metadata": {},
   "source": [
    "## Exploratory Data Analysis"
   ]
  },
  {
   "cell_type": "markdown",
   "id": "030ab117",
   "metadata": {},
   "source": [
    "## Handling Missing Values"
   ]
  },
  {
   "cell_type": "code",
   "execution_count": 306,
   "id": "947318d4",
   "metadata": {},
   "outputs": [
    {
     "name": "stdout",
     "output_type": "stream",
     "text": [
      "order_id                            0\n",
      "customer_id                         0\n",
      "order_status                        0\n",
      "order_purchase_timestamp            0\n",
      "order_approved_at                 160\n",
      "order_delivered_carrier_date     1783\n",
      "order_delivered_customer_date    2965\n",
      "order_estimated_delivery_date       0\n",
      "dtype: int64\n"
     ]
    }
   ],
   "source": [
    "print(orders_data.isnull().sum())"
   ]
  },
  {
   "cell_type": "code",
   "execution_count": 307,
   "id": "f1c204d3",
   "metadata": {},
   "outputs": [
    {
     "data": {
      "image/png": "[encoded data removed]",
      "text/plain": [
       "<Figure size 720x432 with 1 Axes>"
      ]
     },
     "metadata": {},
     "output_type": "display_data"
    }
   ],
   "source": [
    "plt.figure(figsize=(10, 6))\n",
    "sns.heatmap(orders_data.isnull(), cbar=False, cmap='YlGnBu', yticklabels=False)\n",
    "plt.title('Heatmap of Missing Values')\n",
    "plt.show()"
   ]
  },
  {
   "cell_type": "code",
   "execution_count": 308,
   "id": "1d05f0bc",
   "metadata": {},
   "outputs": [],
   "source": [
    "orders_data = orders_data.fillna('N/A')"
   ]
  },
  {
   "cell_type": "code",
   "execution_count": 309,
   "id": "186fda0d",
   "metadata": {},
   "outputs": [
    {
     "name": "stdout",
     "output_type": "stream",
     "text": [
      "order_id                0\n",
      "payment_sequential      0\n",
      "payment_type            0\n",
      "payment_installments    0\n",
      "payment_value           2\n",
      "dtype: int64\n"
     ]
    }
   ],
   "source": [
    "print(payment_data.isnull().sum())"
   ]
  },
  {
   "cell_type": "code",
   "execution_count": 310,
   "id": "35938e39",
   "metadata": {},
   "outputs": [],
   "source": [
    "payment_data = payment_data.dropna()"
   ]
  },
  {
   "cell_type": "markdown",
   "id": "ecba4fc6",
   "metadata": {},
   "source": [
    "#### we dropped rows of the missing values as they are small number "
   ]
  },
  {
   "cell_type": "code",
   "execution_count": 311,
   "id": "ebbd442d",
   "metadata": {},
   "outputs": [
    {
     "name": "stdout",
     "output_type": "stream",
     "text": [
      "customer_id                 0\n",
      "customer_unique_id          0\n",
      "customer_zip_code_prefix    0\n",
      "customer_city               0\n",
      "customer_state              0\n",
      "dtype: int64\n"
     ]
    }
   ],
   "source": [
    "print(customers_data.isnull().sum())"
   ]
  },
  {
   "cell_type": "markdown",
   "id": "852eb453",
   "metadata": {},
   "source": [
    "## Checking for Duplicate Data"
   ]
  },
  {
   "cell_type": "markdown",
   "id": "d1f8ed62",
   "metadata": {},
   "source": [
    "### orders Data"
   ]
  },
  {
   "cell_type": "code",
   "execution_count": 312,
   "id": "bfa85084",
   "metadata": {},
   "outputs": [
    {
     "name": "stdout",
     "output_type": "stream",
     "text": [
      "3\n"
     ]
    }
   ],
   "source": [
    "print(orders_data.duplicated().sum())"
   ]
  },
  {
   "cell_type": "code",
   "execution_count": 313,
   "id": "7f16b946",
   "metadata": {},
   "outputs": [],
   "source": [
    "orders_data = orders_data.drop_duplicates()"
   ]
  },
  {
   "cell_type": "code",
   "execution_count": 314,
   "id": "63955aec",
   "metadata": {},
   "outputs": [
    {
     "name": "stdout",
     "output_type": "stream",
     "text": [
      "0\n"
     ]
    }
   ],
   "source": [
    "print(orders_data.duplicated().sum())"
   ]
  },
  {
   "cell_type": "markdown",
   "id": "3281bb5e",
   "metadata": {},
   "source": [
    "### Payment Data"
   ]
  },
  {
   "cell_type": "code",
   "execution_count": 315,
   "id": "19c7541b",
   "metadata": {},
   "outputs": [
    {
     "name": "stdout",
     "output_type": "stream",
     "text": [
      "1\n"
     ]
    }
   ],
   "source": [
    "print(payment_data.duplicated().sum())"
   ]
  },
  {
   "cell_type": "code",
   "execution_count": 316,
   "id": "5a6ca4f4",
   "metadata": {},
   "outputs": [],
   "source": [
    "payment_data = payment_data.drop_duplicates()"
   ]
  },
  {
   "cell_type": "code",
   "execution_count": 317,
   "id": "845137b0",
   "metadata": {},
   "outputs": [
    {
     "name": "stdout",
     "output_type": "stream",
     "text": [
      "0\n"
     ]
    }
   ],
   "source": [
    "print(payment_data.duplicated().sum())"
   ]
  },
  {
   "cell_type": "markdown",
   "id": "22ab4d9c",
   "metadata": {},
   "source": [
    "### Customers Data"
   ]
  },
  {
   "cell_type": "code",
   "execution_count": 318,
   "id": "a76d96a3",
   "metadata": {},
   "outputs": [
    {
     "name": "stdout",
     "output_type": "stream",
     "text": [
      "0\n"
     ]
    }
   ],
   "source": [
    "print(customers_data.duplicated().sum())"
   ]
  },
  {
   "cell_type": "markdown",
   "id": "3c039c97",
   "metadata": {},
   "source": [
    "## Filtering Data"
   ]
  },
  {
   "cell_type": "markdown",
   "id": "908dc84b",
   "metadata": {},
   "source": [
    "### the orders based on order status"
   ]
  },
  {
   "cell_type": "code",
   "execution_count": 319,
   "id": "ca5bc893",
   "metadata": {},
   "outputs": [
    {
     "name": "stdout",
     "output_type": "stream",
     "text": [
      "['delivered' 'invoiced' 'shipped' 'processing' 'unavailable' 'canceled'\n",
      " 'created' 'approved']\n"
     ]
    }
   ],
   "source": [
    "print(orders_data['order_status'].unique())"
   ]
  },
  {
   "cell_type": "code",
   "execution_count": 320,
   "id": "a166aab0",
   "metadata": {},
   "outputs": [
    {
     "name": "stdout",
     "output_type": "stream",
     "text": [
      "                               order_id                       customer_id  \\\n",
      "7      136cce7faa42fdb2cefd53fdc79a6098  ed0271e0b7da060a393796590e7b737a   \n",
      "106    0760a852e4e9d89eb77bf631eaaf1c84  d2a79636084590b7465af8ab374a8cf5   \n",
      "458    38b7efdf33dd5561f4f5d4f6e07b0414  021e84751ba0ead75b6d314a6ead88d9   \n",
      "1836   51b0dccc8596ce37a930dff2d63a10a2  31bf1057b00f14804278590bbac18b1b   \n",
      "2119   5504eaa5a86eb25fa666cf2e6b96c701  a30be38e1ed0ffb39b318bf1d15e98d9   \n",
      "...                                 ...                               ...   \n",
      "98417  41ad2ae32ee66c07ef3b0301ba02ad27  5c7f8d14a0a12198d1d07167d7d343b3   \n",
      "98627  9ffb325177b96c422447e3b9ee9a6270  e4079117ea0dc8bc27274e34c4796515   \n",
      "98848  021dac6e3120485db6a77474aa21b979  c40f7f00e91eb8a0da1e58484380a796   \n",
      "99034  c526fe83c01c48066394ff5d81f9ab9a  6c678c38f3a0874b7bfeeb2d5fb22876   \n",
      "99069  46bdec7cc92d926500bee756ee1df6dc  0cfcefc0ed0af6a2e601540feeac24e7   \n",
      "\n",
      "      order_status order_purchase_timestamp    order_approved_at  \\\n",
      "7         invoiced      2017-04-11 12:22:08  2017-04-13 13:25:17   \n",
      "106       invoiced      2018-08-03 17:44:42  2018-08-07 06:15:14   \n",
      "458       invoiced      2017-08-01 18:17:41  2017-08-01 18:32:30   \n",
      "1836      invoiced      2017-05-05 22:34:48  2017-05-05 22:45:12   \n",
      "2119      invoiced      2017-11-29 08:33:06  2017-11-29 08:56:23   \n",
      "...            ...                      ...                  ...   \n",
      "98417     invoiced      2017-11-24 15:54:47  2017-11-24 19:33:24   \n",
      "98627     invoiced      2018-05-10 19:11:18  2018-05-10 19:37:27   \n",
      "98848     invoiced      2017-11-24 22:46:09  2017-11-25 01:53:42   \n",
      "99034     invoiced      2018-08-07 11:11:30  2018-08-07 11:25:01   \n",
      "99069     invoiced      2018-07-16 13:20:06  2018-07-16 13:30:35   \n",
      "\n",
      "      order_delivered_carrier_date order_delivered_customer_date  \\\n",
      "7                              N/A                           N/A   \n",
      "106                            N/A                           N/A   \n",
      "458                            N/A                           N/A   \n",
      "1836                           N/A                           N/A   \n",
      "2119                           N/A                           N/A   \n",
      "...                            ...                           ...   \n",
      "98417                          N/A                           N/A   \n",
      "98627                          N/A                           N/A   \n",
      "98848                          N/A                           N/A   \n",
      "99034                          N/A                           N/A   \n",
      "99069                          N/A                           N/A   \n",
      "\n",
      "      order_estimated_delivery_date  \n",
      "7                        2017-05-09  \n",
      "106                      2018-08-21  \n",
      "458                      2017-08-28  \n",
      "1836                     2017-06-06  \n",
      "2119                     2017-12-20  \n",
      "...                             ...  \n",
      "98417                    2017-12-18  \n",
      "98627                    2018-06-05  \n",
      "98848                    2017-12-15  \n",
      "99034                    2018-08-17  \n",
      "99069                    2018-08-06  \n",
      "\n",
      "[314 rows x 8 columns]\n"
     ]
    }
   ],
   "source": [
    "invoiced_orders = orders_data[orders_data['order_status'] == \"invoiced\"]\n",
    "print(invoiced_orders)"
   ]
  },
  {
   "cell_type": "code",
   "execution_count": 321,
   "id": "c7f6dea2",
   "metadata": {},
   "outputs": [
    {
     "name": "stdout",
     "output_type": "stream",
     "text": [
      "                             order_id                       customer_id  \\\n",
      "0    136cce7faa42fdb2cefd53fdc79a6098  ed0271e0b7da060a393796590e7b737a   \n",
      "1    0760a852e4e9d89eb77bf631eaaf1c84  d2a79636084590b7465af8ab374a8cf5   \n",
      "2    38b7efdf33dd5561f4f5d4f6e07b0414  021e84751ba0ead75b6d314a6ead88d9   \n",
      "3    51b0dccc8596ce37a930dff2d63a10a2  31bf1057b00f14804278590bbac18b1b   \n",
      "4    5504eaa5a86eb25fa666cf2e6b96c701  a30be38e1ed0ffb39b318bf1d15e98d9   \n",
      "..                                ...                               ...   \n",
      "309  41ad2ae32ee66c07ef3b0301ba02ad27  5c7f8d14a0a12198d1d07167d7d343b3   \n",
      "310  9ffb325177b96c422447e3b9ee9a6270  e4079117ea0dc8bc27274e34c4796515   \n",
      "311  021dac6e3120485db6a77474aa21b979  c40f7f00e91eb8a0da1e58484380a796   \n",
      "312  c526fe83c01c48066394ff5d81f9ab9a  6c678c38f3a0874b7bfeeb2d5fb22876   \n",
      "313  46bdec7cc92d926500bee756ee1df6dc  0cfcefc0ed0af6a2e601540feeac24e7   \n",
      "\n",
      "    order_status order_purchase_timestamp    order_approved_at  \\\n",
      "0       invoiced      2017-04-11 12:22:08  2017-04-13 13:25:17   \n",
      "1       invoiced      2018-08-03 17:44:42  2018-08-07 06:15:14   \n",
      "2       invoiced      2017-08-01 18:17:41  2017-08-01 18:32:30   \n",
      "3       invoiced      2017-05-05 22:34:48  2017-05-05 22:45:12   \n",
      "4       invoiced      2017-11-29 08:33:06  2017-11-29 08:56:23   \n",
      "..           ...                      ...                  ...   \n",
      "309     invoiced      2017-11-24 15:54:47  2017-11-24 19:33:24   \n",
      "310     invoiced      2018-05-10 19:11:18  2018-05-10 19:37:27   \n",
      "311     invoiced      2017-11-24 22:46:09  2017-11-25 01:53:42   \n",
      "312     invoiced      2018-08-07 11:11:30  2018-08-07 11:25:01   \n",
      "313     invoiced      2018-07-16 13:20:06  2018-07-16 13:30:35   \n",
      "\n",
      "    order_delivered_carrier_date order_delivered_customer_date  \\\n",
      "0                            N/A                           N/A   \n",
      "1                            N/A                           N/A   \n",
      "2                            N/A                           N/A   \n",
      "3                            N/A                           N/A   \n",
      "4                            N/A                           N/A   \n",
      "..                           ...                           ...   \n",
      "309                          N/A                           N/A   \n",
      "310                          N/A                           N/A   \n",
      "311                          N/A                           N/A   \n",
      "312                          N/A                           N/A   \n",
      "313                          N/A                           N/A   \n",
      "\n",
      "    order_estimated_delivery_date  \n",
      "0                      2017-05-09  \n",
      "1                      2018-08-21  \n",
      "2                      2017-08-28  \n",
      "3                      2017-06-06  \n",
      "4                      2017-12-20  \n",
      "..                            ...  \n",
      "309                    2017-12-18  \n",
      "310                    2018-06-05  \n",
      "311                    2017-12-15  \n",
      "312                    2018-08-17  \n",
      "313                    2018-08-06  \n",
      "\n",
      "[314 rows x 8 columns]\n"
     ]
    }
   ],
   "source": [
    "invoiced_orders = invoiced_orders.reset_index(drop =True)\n",
    "print(invoiced_orders)"
   ]
  },
  {
   "cell_type": "code",
   "execution_count": 322,
   "id": "a3452a05",
   "metadata": {},
   "outputs": [
    {
     "name": "stdout",
     "output_type": "stream",
     "text": [
      "                               order_id                       customer_id  \\\n",
      "400    1b9ecfe83cdc259250e1a8aca174f0ad  6d6b50b66d79f80827b6d96751528d30   \n",
      "616    714fb133a6730ab81fa1d3c1b2007291  e3fe72696c4713d64d3c10afe71e75ed   \n",
      "1061   3a129877493c8189c59c60eb71d97c29  0913cdce793684e52bbfac69d87e91fd   \n",
      "1133   00b1cb0320190ca0daa2c88b35206009  3532ba38a3fd242259a514ac2b6ae6b6   \n",
      "1804   ed3efbd3a87bea76c2812c66a0b32219  191984a8ba4cbb2145acb4fe35b69664   \n",
      "...                                 ...                               ...   \n",
      "98794  b159d0ce7cd881052da94fa165617b05  e0c3bc5ce0836b975d6b2a8ce7bb0e3e   \n",
      "98912  e49e7ce1471b4693482d40c2bd3ad196  e4e7ab3f449aeb401f0216f86c2104db   \n",
      "99146  6560fb10610771449cb0463c5ba12199  0d07d0a588caf93cc66b7a8aff86d2fe   \n",
      "99286  3a3cddda5a7c27851bd96c3313412840  0b0d6095c5555fe083844281f6b093bb   \n",
      "99350  a89abace0dcc01eeb267a9660b5ac126  2f0524a7b1b3845a1a57fcf3910c4333   \n",
      "\n",
      "      order_status order_purchase_timestamp    order_approved_at  \\\n",
      "400       canceled      2018-08-04 14:29:27  2018-08-07 04:10:26   \n",
      "616       canceled      2018-01-26 21:34:08  2018-01-26 21:58:39   \n",
      "1061      canceled      2018-01-25 13:34:24  2018-01-25 13:50:20   \n",
      "1133      canceled      2018-08-28 15:26:39                  N/A   \n",
      "1804      canceled      2018-09-20 13:54:16                  N/A   \n",
      "...            ...                      ...                  ...   \n",
      "98794     canceled      2017-03-11 19:51:36  2017-03-11 19:51:36   \n",
      "98912     canceled      2018-08-07 11:16:28                  N/A   \n",
      "99146     canceled      2017-10-01 22:26:25  2017-10-01 22:35:22   \n",
      "99286     canceled      2018-08-31 16:13:44                  N/A   \n",
      "99350     canceled      2018-09-06 18:45:47                  N/A   \n",
      "\n",
      "      order_delivered_carrier_date order_delivered_customer_date  \\\n",
      "400                            N/A                           N/A   \n",
      "616            2018-01-29 22:33:25                           N/A   \n",
      "1061           2018-01-26 21:42:18                           N/A   \n",
      "1133                           N/A                           N/A   \n",
      "1804                           N/A                           N/A   \n",
      "...                            ...                           ...   \n",
      "98794                          N/A                           N/A   \n",
      "98912                          N/A                           N/A   \n",
      "99146                          N/A                           N/A   \n",
      "99286                          N/A                           N/A   \n",
      "99350                          N/A                           N/A   \n",
      "\n",
      "      order_estimated_delivery_date  \n",
      "400                      2018-08-14  \n",
      "616                      2018-02-22  \n",
      "1061                     2018-02-23  \n",
      "1133                     2018-09-12  \n",
      "1804                     2018-10-17  \n",
      "...                             ...  \n",
      "98794                    2017-03-30  \n",
      "98912                    2018-08-10  \n",
      "99146                    2017-10-27  \n",
      "99286                    2018-10-01  \n",
      "99350                    2018-09-27  \n",
      "\n",
      "[625 rows x 8 columns]\n"
     ]
    }
   ],
   "source": [
    "canceled_orders = orders_data[orders_data['order_status'] == \"canceled\"]\n",
    "print(canceled_orders)"
   ]
  },
  {
   "cell_type": "code",
   "execution_count": 331,
   "id": "7508c473",
   "metadata": {},
   "outputs": [
    {
     "data": {
      "image/png": "[encoded data removed]",
      "text/plain": [
       "<Figure size 1440x1440 with 1 Axes>"
      ]
     },
     "metadata": {},
     "output_type": "display_data"
    }
   ],
   "source": [
    "plt.figure(figsize=(20,20))\n",
    "orderCounts = orders_data['order_status'].value_counts()\n",
    "plt.pie(orderCounts, labels=orderCounts.index, autopct='%1.1f%%', startangle=140)\n",
    "plt.title('Orders Distribution by Status')\n",
    "plt.show()"
   ]
  },
  {
   "cell_type": "markdown",
   "id": "5d8f1d9a",
   "metadata": {},
   "source": [
    "### the payment as credit and payment value > 1000"
   ]
  },
  {
   "cell_type": "code",
   "execution_count": null,
   "id": "7463bc3a",
   "metadata": {},
   "outputs": [],
   "source": [
    "print(payment_data['payment_type'].unique())"
   ]
  },
  {
   "cell_type": "code",
   "execution_count": null,
   "id": "1cfeb521",
   "metadata": {},
   "outputs": [],
   "source": [
    "Credit_1000 = payment_data[( payment_data['payment_type'] == 'credit_card' ) & ( payment_data['payment_value'] > 1000 ) ]\n",
    "print(Credit_1000)"
   ]
  },
  {
   "cell_type": "markdown",
   "id": "b4d7faab",
   "metadata": {},
   "source": [
    "### the customers as state = SP"
   ]
  },
  {
   "cell_type": "code",
   "execution_count": null,
   "id": "fd98c4ff",
   "metadata": {},
   "outputs": [],
   "source": [
    "print(customers_data['customer_state'].unique())"
   ]
  },
  {
   "cell_type": "code",
   "execution_count": null,
   "id": "7b989589",
   "metadata": {},
   "outputs": [],
   "source": [
    "customers_SP = customers_data[customers_data['customer_state'] == 'SP']\n",
    "print(customers_SP)"
   ]
  },
  {
   "cell_type": "markdown",
   "id": "a911bffd",
   "metadata": {},
   "source": [
    "## MERGING and JOINING DATA FRAMES"
   ]
  },
  {
   "cell_type": "markdown",
   "id": "f19ce5b6",
   "metadata": {},
   "source": [
    "### merging order_data with payment_data on order_id"
   ]
  },
  {
   "cell_type": "code",
   "execution_count": null,
   "id": "dea8a216",
   "metadata": {},
   "outputs": [],
   "source": [
    "merged_data = pd.merge(orders_data,payment_data, on = 'order_id')\n",
    "print(merged_data)"
   ]
  },
  {
   "cell_type": "markdown",
   "id": "3ca1fba4",
   "metadata": {},
   "source": [
    "### merging merged_data with customer_data on customer_id"
   ]
  },
  {
   "cell_type": "code",
   "execution_count": null,
   "id": "a16deb7a",
   "metadata": {},
   "outputs": [],
   "source": [
    "merged_data = pd.merge(merged_data,customers_data, on = 'customer_id')\n",
    "print(merged_data)"
   ]
  },
  {
   "cell_type": "code",
   "execution_count": null,
   "id": "c907aa3f",
   "metadata": {},
   "outputs": [],
   "source": [
    "print(merged_data.info())"
   ]
  },
  {
   "cell_type": "markdown",
   "id": "bf5681a8",
   "metadata": {},
   "source": [
    "## Data Visulaization"
   ]
  },
  {
   "cell_type": "markdown",
   "id": "41f63f80",
   "metadata": {},
   "source": [
    "### From order_purchase_timestamp making a new column will be called Month_Year"
   ]
  },
  {
   "cell_type": "code",
   "execution_count": null,
   "id": "cd6c0424",
   "metadata": {},
   "outputs": [],
   "source": [
    "merged_data['Month_Year'] = merged_data['order_purchase_timestamp'].dt.to_period('M')\n",
    "print(merged_data['Month_Year'])"
   ]
  },
  {
   "cell_type": "code",
   "execution_count": null,
   "id": "af8ba432",
   "metadata": {},
   "outputs": [],
   "source": [
    "merged_data['Week_Year'] = merged_data['order_purchase_timestamp'].dt.to_period('W')\n",
    "print(merged_data['Week_Year'])"
   ]
  },
  {
   "cell_type": "code",
   "execution_count": null,
   "id": "6245f7ad",
   "metadata": {
    "scrolled": true
   },
   "outputs": [],
   "source": [
    "merged_data['Year'] = merged_data['order_purchase_timestamp'].dt.to_period('Y')\n",
    "print(merged_data['Year'])"
   ]
  },
  {
   "cell_type": "markdown",
   "id": "bda2cf54",
   "metadata": {},
   "source": [
    "### Visualize the payment_value based on month"
   ]
  },
  {
   "cell_type": "code",
   "execution_count": null,
   "id": "b2895d38",
   "metadata": {},
   "outputs": [],
   "source": [
    "month_payment_Data = merged_data.groupby('Month_Year')['payment_value'].sum()\n",
    "print(month_payment_Data)"
   ]
  },
  {
   "cell_type": "code",
   "execution_count": null,
   "id": "8d8cf50c",
   "metadata": {},
   "outputs": [],
   "source": [
    "month_payment_Data = month_payment_Data.reset_index()"
   ]
  },
  {
   "cell_type": "code",
   "execution_count": null,
   "id": "1f1c32d3",
   "metadata": {},
   "outputs": [],
   "source": [
    "month_payment_Data['Month_Year'] = month_payment_Data['Month_Year'].astype(str)"
   ]
  },
  {
   "cell_type": "code",
   "execution_count": null,
   "id": "fc0f308a",
   "metadata": {},
   "outputs": [],
   "source": [
    "plt.figure(figsize=(10, 6))\n",
    "plt.plot(month_payment_Data['Month_Year'],month_payment_Data['payment_value'], color='red', marker = 'x')\n",
    "plt.ticklabel_format(useOffset=False, style='plain', axis='y')\n",
    "plt.title('Payment value by month and year')\n",
    "plt.ylabel('Total Amount',fontsize=14)\n",
    "plt.xlabel('Month and Year', fontsize=14)\n",
    "plt.xticks(rotation=45, fontsize=14)\n",
    "plt.yticks(fontsize=14)\n",
    "plt.show()"
   ]
  },
  {
   "cell_type": "markdown",
   "id": "7ae1fa4f",
   "metadata": {},
   "source": [
    "### Visualize the payment_value and payment_installments based on each customer"
   ]
  },
  {
   "cell_type": "code",
   "execution_count": null,
   "id": "22c508d0",
   "metadata": {},
   "outputs": [],
   "source": [
    "customer_payment_Data = merged_data.groupby('customer_unique_id').agg({'payment_installments':'sum','payment_value':'sum'})\n",
    "print(customer_payment_Data)"
   ]
  },
  {
   "cell_type": "code",
   "execution_count": null,
   "id": "e58472c1",
   "metadata": {},
   "outputs": [],
   "source": [
    "customer_payment_Data = customer_payment_Data.reset_index()"
   ]
  },
  {
   "cell_type": "code",
   "execution_count": null,
   "id": "945ea0fd",
   "metadata": {},
   "outputs": [],
   "source": [
    "print(customer_payment_Data)"
   ]
  },
  {
   "cell_type": "code",
   "execution_count": null,
   "id": "2b00462c",
   "metadata": {},
   "outputs": [],
   "source": [
    "plt.figure(figsize=(10, 6))\n",
    "plt.scatter(customer_payment_Data['payment_value'],customer_payment_Data['payment_installments'],sizes=(50, 500))\n",
    "plt.ticklabel_format(useOffset=False, style='plain', axis='y')\n",
    "plt.title('Payment value and payment installments by each customer')\n",
    "plt.ylabel('Payment value',fontsize=14)\n",
    "plt.xlabel('payment installments', fontsize=14)\n",
    "plt.xticks(rotation=45, fontsize=14)\n",
    "plt.yticks(fontsize=14)\n",
    "sns.set_theme(style='darkgrid')\n",
    "plt.show()"
   ]
  },
  {
   "cell_type": "code",
   "execution_count": null,
   "id": "a6254d74",
   "metadata": {},
   "outputs": [],
   "source": [
    "payment_type_Month_value = merged_data.groupby(['payment_type','Month_Year'])['payment_value'].sum()\n",
    "payment_type_Month_value = payment_type_Month_value.reset_index()\n",
    "print(payment_type_Month_value)"
   ]
  },
  {
   "cell_type": "code",
   "execution_count": null,
   "id": "8a41bfb9",
   "metadata": {},
   "outputs": [],
   "source": [
    "plt.figure(figsize=(10, 8))\n",
    "pivot_data = payment_type_Month_value.pivot(index='Month_Year',columns='payment_type', values='payment_value')\n",
    "pivot_data.plot(kind='bar', stacked=True)\n",
    "plt.ticklabel_format(useOffset=False, style='plain', axis='y')\n",
    "plt.title('Payment value by month and year according to payment type')\n",
    "plt.ylabel('payment value',fontsize=10)\n",
    "plt.xlabel('Month and Year', fontsize=10)\n",
    "plt.xticks(rotation=45, fontsize=10)\n",
    "plt.yticks(fontsize=10)\n",
    "plt.show()"
   ]
  },
  {
   "cell_type": "code",
   "execution_count": null,
   "id": "82bab155",
   "metadata": {},
   "outputs": [],
   "source": [
    "plt.figure(figsize=(10, 6))\n",
    "sns.barplot(month_payment_Data['Month_Year'],month_payment_Data['payment_value'], palette='viridis')\n",
    "plt.ticklabel_format(useOffset=False, style='plain', axis='y')\n",
    "plt.title('Payment value by month and year')\n",
    "plt.ylabel('Total Amount',fontsize=14)\n",
    "plt.xlabel('Month and Year', fontsize=14)\n",
    "plt.xticks(rotation=45, fontsize=14)\n",
    "plt.yticks(fontsize=14)\n",
    "plt.show()"
   ]
  },
  {
   "cell_type": "code",
   "execution_count": null,
   "id": "f4808ba0",
   "metadata": {},
   "outputs": [],
   "source": [
    "month_payment_Data['payment_type'] = month_payment_Data['payment_type'].astype(str)"
   ]
  },
  {
   "cell_type": "code",
   "execution_count": null,
   "id": "8750aceb",
   "metadata": {},
   "outputs": [],
   "source": [
    "plt.figure(figsize=(10, 6))\n",
    "sns.boxplot(x='payment_type', y='payment_value', data=payment_type_Month_value, palette='Set2')\n",
    "plt.title('Distribution of payment value by payment type')\n",
    "plt.ylabel('payment value')\n",
    "plt.xlabel('payment type')\n",
    "plt.xticks(rotation=45)\n",
    "plt.show()"
   ]
  },
  {
   "cell_type": "code",
   "execution_count": 332,
   "id": "68514643",
   "metadata": {},
   "outputs": [
    {
     "name": "stdout",
     "output_type": "stream",
     "text": [
      "Analysis exported to 'E_Commerce_analysis_results.xlsx'\n"
     ]
    }
   ],
   "source": [
    "with pd.ExcelWriter('E_Commerce_analysis_results.xlsx', engine='xlsxwriter') as writer:\n",
    "    # Export each DataFrame to a separate sheet\n",
    "    merged_data.to_excel(writer, sheet_name='merged data', index=False)\n",
    "    customers_SP.to_excel(writer, sheet_name='SP customers', index=False)\n",
    "    canceled_orders.to_excel(writer, sheet_name='canceled orders', index=False)\n",
    "    invoiced_orders.to_excel(writer, sheet_name='invoiced orders', index=False)\n",
    "    Credit_1000.to_excel(writer, sheet_name='Payment Credit 1000', index=False)\n",
    "\n",
    "print(\"Analysis exported to 'E_Commerce_analysis_results.xlsx'\")"
   ]
  }
 ],
 "metadata": {
  "kernelspec": {
   "display_name": "Python 3 (ipykernel)",
   "language": "python",
   "name": "python3"
  },
  "language_info": {
   "codemirror_mode": {
    "name": "ipython",
    "version": 3
   },
   "file_extension": ".py",
   "mimetype": "text/x-python",
   "name": "python",
   "nbconvert_exporter": "python",
   "pygments_lexer": "ipython3",
   "version": "3.9.7"
  }
 },
 "nbformat": 4,
 "nbformat_minor": 5
}
